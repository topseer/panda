# return unique values
Iris_data.unique()

#update Data
iris_data.loc[iris_data['class'] == 'versicolor', 'class'] = 'Iris-versicolor'

 
